{
 "cells": [
  {
   "cell_type": "code",
   "execution_count": 12,
   "id": "1bf6b20d",
   "metadata": {},
   "outputs": [
    {
     "data": {
      "text/plain": [
       "'\\nModel of hub neuron\\n\\n'"
      ]
     },
     "execution_count": 12,
     "metadata": {},
     "output_type": "execute_result"
    }
   ],
   "source": [
    "\"\"\"\n",
    "Model of hub neuron\n",
    "\n",
    "\"\"\""
   ]
  },
  {
   "cell_type": "code",
   "execution_count": 13,
   "id": "3c60a40a",
   "metadata": {},
   "outputs": [],
   "source": [
    "#Initialization variables\n",
    "\n",
    "#simulation variables\n",
    "n = 1 #single neuronmodel \n",
    "endtr = 100e3 #100 sec long simulation\n",
    "clipt = -55*1e3\n",
    "thr = 0\n",
    "t_span = (0,endtr) #array defining the start and end time of simulation\n",
    "dt=np.arange(0,endtr,0.211) #time step of 0.2 ms"
   ]
  },
  {
   "cell_type": "code",
   "execution_count": 18,
   "id": "c3039b7a",
   "metadata": {},
   "outputs": [],
   "source": [
    "#Cell parameters\n",
    "\n",
    "#state variables\n",
    "N0 = 0 #state variable N\n",
    "H0 = 0 #state variable H\n",
    "Vm0 = -65 #Initial membrane potential set to -65mV\n",
    "y0 = np.array([N0, H0, Vm0]) # defining the initial values of N, H and Vm"
   ]
  },
  {
   "cell_type": "code",
   "execution_count": 21,
   "id": "ba1d470e",
   "metadata": {},
   "outputs": [],
   "source": [
    "#The switchIC functions contains all the ODEs for channels kinetics and synaptic conductances \n",
    "#that need to be solved\n",
    "#solving for y and t where y is Vm and t is time\n",
    "def switchIC(t,y): \n",
    "    ny= np.shape(y)[0] \n",
    "    N = y[0] \n",
    "    H = y[1] \n",
    "    Vm = y[2]\n",
    "\n",
    "#conductance values of all channels\n",
    "    gk=0.019\n",
    "    gl=0.0001\n",
    "    gc=0.017\n",
    "    gh=0.008\n",
    "    \n",
    "    n=1\n",
    "    iext =0\n",
    "    c=1 #nF membrane capacitance\n",
    "    phi=0.002 #1/ms #determines the eccentricity of the hyperbolic function\n",
    "    vk=-80 #mV\n",
    "    vl=-40\n",
    "    vca=100\n",
    "    vh=-20\n",
    "    vsyn=-75\n",
    "    vp1=0\n",
    "    vp2=20\n",
    "    vp3=0\n",
    "    vp4=15\n",
    "    vp5=78.3\n",
    "    vp6=10.5\n",
    "    vp7=-42.2\n",
    "    vp8=87.3\n",
    "    vth=-25\n",
    "    vp11=5\n",
    "\n",
    "#differential equationas for gating kinetics of channels based on the paper \n",
    "    minf=0.5*(1+np.tanh((Vm-vp1)/vp2))\n",
    "    ninf=0.5*(1+np.tanh((Vm-vp3)/vp4))\n",
    "    lamdn= phi*(np.cosh((Vm-vp3)/(2*vp4)))\n",
    "    hinf=1/(1+np.exp((Vm+vp5)/vp6))\n",
    "    tauh=(272-((-1499)/(1+np.exp((-Vm+vp7)/vp8))))\n",
    "\n",
    "#current in all channels\n",
    "    ica = gc*minf*(Vm-vca) # nA calcium\n",
    "    ik = gk*N*(Vm-vk)      #potassium\n",
    "    ih = gh*H*(Vm-vh)   #h channel\n",
    "    il = gl*(Vm-vl)  #nA leak\n",
    "    \n",
    "\n",
    "#defining Vm changes \n",
    "    dy = np.zeros(ny)\n",
    "    dy[0] = lamdn*(ninf-N) #dN\n",
    "    dy[1] = (hinf-H)/tauh #dH\n",
    "    dy[2] = (iext-ica-il-ik-ih)/c  #dVm\n",
    "    \n",
    "    return dy"
   ]
  },
  {
   "cell_type": "code",
   "execution_count": 22,
   "id": "f9fcda77",
   "metadata": {},
   "outputs": [],
   "source": [
    "#Solve the above ODEs by the 4/5th order Runge Kutta method\n",
    "#t_span= start and end time y0= intial Vm t_eval=time step \n",
    "#solve_ivp(fun, t_span, y0, method='RK45', t_eval=None, dense_output=False, vectorized=False)\n",
    "\n",
    "results= solve_ivp(switchIC, t_span, y0, method='RK45', t_eval=dt,\n",
    "                 vectorized=False)\n",
    " "
   ]
  },
  {
   "cell_type": "code",
   "execution_count": 34,
   "id": "43f721bb",
   "metadata": {},
   "outputs": [
    {
     "name": "stdout",
     "output_type": "stream",
     "text": [
      "(473934,)\n",
      "(473934,)\n"
     ]
    }
   ],
   "source": [
    "#results is an onject containing the t and y values\n",
    "#t=time and y=Vm\n",
    "t= results['t']/1000 #converting to seconds\n",
    "print(np.shape(t))\n",
    "Vm = results['y'][-1] #membrane potential of channels\n",
    "\n",
    "print(np.shape(Vm))"
   ]
  },
  {
   "cell_type": "code",
   "execution_count": 36,
   "id": "36844e2d",
   "metadata": {},
   "outputs": [
    {
     "data": {
      "image/png": "[encoded data removed]",
      "text/plain": [
       "<Figure size 432x288 with 1 Axes>"
      ]
     },
     "metadata": {
      "needs_background": "light"
     },
     "output_type": "display_data"
    }
   ],
   "source": [
    "plt.title('Hub neuron')\n",
    "plt.plot(t,Vm,color='k')\n",
    "plt.xlabel('time (s)')\n",
    "plt.ylabel('Membrane voltage (mV)')\n",
    "plt.xlim(1,11)\n",
    "            \n",
    "plt.show()"
   ]
  },
  {
   "cell_type": "code",
   "execution_count": null,
   "id": "ffdc3723",
   "metadata": {},
   "outputs": [],
   "source": []
  }
 ],
 "metadata": {
  "kernelspec": {
   "display_name": "Python 3 (ipykernel)",
   "language": "python",
   "name": "python3"
  },
  "language_info": {
   "codemirror_mode": {
    "name": "ipython",
    "version": 3
   },
   "file_extension": ".py",
   "mimetype": "text/x-python",
   "name": "python",
   "nbconvert_exporter": "python",
   "pygments_lexer": "ipython3",
   "version": "3.8.10"
  }
 },
 "nbformat": 4,
 "nbformat_minor": 5
}

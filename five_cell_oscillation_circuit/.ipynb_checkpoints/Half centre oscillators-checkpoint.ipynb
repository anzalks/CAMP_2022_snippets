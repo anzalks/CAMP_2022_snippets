{
 "cells": [
  {
   "cell_type": "code",
   "execution_count": 81,
   "id": "3c230311",
   "metadata": {},
   "outputs": [],
   "source": [
    "\"\"\"\n",
    "CAMP 2022 tutorial two neuron half centre oscillators\n",
    "\n",
    "\"\"\"\n",
    "# Import all libraries\n",
    "#allows to display plot inline with the code\n",
    "%matplotlib inline \n",
    "import matplotlib.pyplot as plt\n",
    "import numpy as np \n",
    "from scipy.integrate import solve_ivp #solver for ODE\n",
    "import math as math"
   ]
  },
  {
   "cell_type": "code",
   "execution_count": 82,
   "id": "0756d66a",
   "metadata": {},
   "outputs": [],
   "source": [
    "#Initialization variables\n",
    "\n",
    "#simulation variables\n",
    "n = 2 #2 cells in the network\n",
    "endtr = 100e3 #100 sec long simulation\n",
    "clipt = -55*1e3\n",
    "thr = 0\n",
    "t_span = (0,endtr) #array defining the start and end time of simulation\n",
    "dt=np.arange(0,endtr,0.211) #time step of 0.2 ms\n"
   ]
  },
  {
   "cell_type": "code",
   "execution_count": 154,
   "id": "a1c0b197",
   "metadata": {},
   "outputs": [],
   "source": [
    "#Cell parameters\n",
    "\n",
    "#chemical synaptic conductances\n",
    "#ghc defines the conductance between between f1-f2 \n",
    "ghc = 3\n",
    "\n",
    "#state variables\n",
    "N0 = np.empty(n) #state variable N\n",
    "N0.fill(0)\n",
    "H0 = np.empty(n) #state variable H\n",
    "H0.fill(0)\n",
    "Vm0 = np.empty(n) #Initial membrane potential set to -65mV\n",
    "Vm0.fill(-65)\n",
    "y0 = np.concatenate((N0,H0,Vm0)) # defining the initial values of N, H and Vm\n"
   ]
  },
  {
   "cell_type": "code",
   "execution_count": 155,
   "id": "9b9bf2a9",
   "metadata": {},
   "outputs": [],
   "source": [
    "#The switchIC functions contains all the ODEs for channels kinetics and synaptic conductances \n",
    "#that need to be solved\n",
    "#solving for y and t where y is Vm and t is time\n",
    "def switchIC(t,y,ghc=ghc):\n",
    "  \n",
    "    ny= np.shape(y)[0]\n",
    "    N = y[0:2]\n",
    "    H = y[2:4]\n",
    "    Vm = y[4:6]\n",
    "    \n",
    "#chemical synapse between f1-f2 \n",
    "    gsyn_lp_pd =ghc\n",
    "\n",
    "    \n",
    "\n",
    "#setting conductance values for all neurons\n",
    "    gk = np.array([0.039,0.039])\n",
    "    gl = np.empty(2)\n",
    "    gl.fill(0.0001)\n",
    "    gc = np.array([0.019,0.019])\n",
    "    gh = np.array([0.025,0.025])\n",
    "    \n",
    "    n=2\n",
    "    iext =np.zeros(n)\n",
    "    c=1 #nF membrane capacitance\n",
    "    phi=0.002 #1/ms #determines the eccentricity of the hyperbolic function\n",
    "    vk=-80 #mV\n",
    "    vl=-40\n",
    "    vca=100\n",
    "    vh=-20\n",
    "    vsyn=-75\n",
    "    vp1=0\n",
    "    vp2=20\n",
    "    vp3=0\n",
    "    vp4=15\n",
    "    vp5=78.3\n",
    "    vp6=10.5\n",
    "    vp7=-42.2\n",
    "    vp8=87.3\n",
    "    vth=-25\n",
    "    vp11=5\n",
    "\n",
    "#differential equationas for gating kinetics of channels based on the paper \n",
    "    minf=0.5*(1+np.tanh((Vm-vp1)/vp2))\n",
    "    ninf=0.5*(1+np.tanh((Vm-vp3)/vp4))\n",
    "    lamdn= phi*(np.cosh((Vm-vp3)/(2*vp4)))\n",
    "    hinf=1/(1+np.exp((Vm+vp5)/vp6))\n",
    "    tauh=(272-((-1499)/(1+np.exp((-Vm+vp7)/vp8))))\n",
    "#for the synaptic conductance\n",
    "    sinf=1/(1+np.exp((vth-Vm)/vp11))\n",
    "\n",
    "#electrical synapse\n",
    "  \n",
    "    isyn = np.array([(gsyn_lp_pd*sinf[1]*(Vm[0]-vsyn)),(gsyn_lp_pd*sinf[0]*(Vm[1]-vsyn))])      #chemical synapse\n",
    "\n",
    "#current contributed by all channels\n",
    "    ica = gc*minf*(Vm-vca) # nA calcium\n",
    "    ik = gk*N*(Vm-vk)      #potassium\n",
    "    ih = gh*H*(Vm-vh)   #h channel\n",
    "    il = gl*(Vm-vl)  #nA leak\n",
    "    \n",
    "    \n",
    "#defining Vm changes \n",
    "    dy = np.zeros(ny)\n",
    "    dy[0:2] = lamdn*(ninf-N) #dN\n",
    "    dy[2:4] = (hinf-H)/tauh #dH\n",
    "    dy[4:6] = (iext-ica-il-ik-ih-isyn)/c  #dVm\n",
    "    \n",
    "    return dy"
   ]
  },
  {
   "cell_type": "code",
   "execution_count": 156,
   "id": "70bb48aa",
   "metadata": {},
   "outputs": [],
   "source": [
    "#Solve the above ODEs by the 4/5th order Runge Kutta method\n",
    "#t_span= start and end time y0= intial Vm t_eval=time step \n",
    "#solve_ivp(fun, t_span, y0, method='RK45', t_eval=None, dense_output=False, vectorized=False)\n",
    "\n",
    "results= solve_ivp(switchIC, t_span, y0, method='RK45', t_eval=dt,\n",
    "                 vectorized=False)"
   ]
  },
  {
   "cell_type": "code",
   "execution_count": 157,
   "id": "7492463e",
   "metadata": {},
   "outputs": [],
   "source": [
    "#results is an onject containing the t and y values\n",
    "#t=time and y=Vm\n",
    "t= results['t']/1000 #converting to seconds\n",
    "Vm_all = results['y'][4:] #Vm of all 5 neurons. Each column contains Vm of one neuron\n"
   ]
  },
  {
   "cell_type": "code",
   "execution_count": 158,
   "id": "05031edc",
   "metadata": {},
   "outputs": [
    {
     "data": {
      "image/png": "[encoded data removed]",
      "text/plain": [
       "<Figure size 432x288 with 1 Axes>"
      ]
     },
     "metadata": {
      "needs_background": "light"
     },
     "output_type": "display_data"
    },
    {
     "data": {
      "image/png": "[encoded data removed]",
      "text/plain": [
       "<Figure size 432x288 with 1 Axes>"
      ]
     },
     "metadata": {
      "needs_background": "light"
     },
     "output_type": "display_data"
    }
   ],
   "source": [
    "for i,Vm in enumerate(Vm_all):\n",
    "    plt.figure(i)\n",
    "    if i==0:\n",
    "        plt.plot(t,Vm,color='r')\n",
    "        plt.title('Neuron - f1')\n",
    "    elif i==1:\n",
    "        plt.title('Neruon - f2')\n",
    "        plt.plot(t,Vm,color='b')\n",
    "    plt.xlabel('time (s)')\n",
    "    plt.ylabel('Membrane voltage (mV)')\n",
    "    plt.xlim(1,100)\n",
    "            \n",
    "plt.show()"
   ]
  },
  {
   "cell_type": "code",
   "execution_count": null,
   "id": "95bcb782",
   "metadata": {},
   "outputs": [],
   "source": []
  }
 ],
 "metadata": {
  "kernelspec": {
   "display_name": "Python 3 (ipykernel)",
   "language": "python",
   "name": "python3"
  },
  "language_info": {
   "codemirror_mode": {
    "name": "ipython",
    "version": 3
   },
   "file_extension": ".py",
   "mimetype": "text/x-python",
   "name": "python",
   "nbconvert_exporter": "python",
   "pygments_lexer": "ipython3",
   "version": "3.8.10"
  }
 },
 "nbformat": 4,
 "nbformat_minor": 5
}

{
 "cells": [
  {
   "cell_type": "code",
   "execution_count": 1,
   "id": "10fa7365",
   "metadata": {},
   "outputs": [],
   "source": [
    "\"\"\"\n",
    "CAMP 2022 tutorial\n",
    "\n",
    "\"\"\"\n",
    "%matplotlib inline\n",
    "import matplotlib.pyplot as plt\n",
    "import numpy as np \n",
    "from scipy.integrate import solve_ivp\n",
    "import math as math\n",
    "\n"
   ]
  },
  {
   "cell_type": "code",
   "execution_count": 2,
   "id": "3e87ed04",
   "metadata": {},
   "outputs": [],
   "source": [
    "#variables\n",
    "n = 5\n",
    "endtr = 600*1e3\n",
    "clipt = -55*1e3\n",
    "thr = 0\n",
    "ghc = 0.005\n",
    "gel=0.5 #nS\n",
    "gsynA=5\n",
    "\n",
    "N0 = np.empty(n) \n",
    "N0.fill(0)\n",
    "H0 = np.empty(n)\n",
    "H0.fill(0)\n",
    "Vm0 = np.empty(n)\n",
    "Vm0.fill(-65)\n",
    "#print( f'N0 ={N0}, H0 = {H0}, Vm0 = {Vm0}')\n",
    "t_span = [0,endtr] #not sure about the syntax\n",
    "#print(f't_span = {t_span}')\n",
    "y0 = np.concatenate((N0,H0,Vm0))\n",
    "#print(f'y0 = {y0}')"
   ]
  },
  {
   "cell_type": "code",
   "execution_count": 3,
   "id": "6f8188a3",
   "metadata": {},
   "outputs": [],
   "source": [
    "def switchIC(t,y,ghc=ghc,gsynicpd=gsynA,gsynicin=gsynA,geliclp=gel,geliclg=gel):\n",
    "    ny= np.shape(y)[0]\n",
    "    N = y[0:5]\n",
    "    H = y[5:10]\n",
    "    Vm = y[10:15]\n",
    "    #print(f'vm = {np.shape(Vm)}, H = {np.shape(H)}, N = {np.shape(N)},' \n",
    "    #      f'ny= {ny}')\n",
    "    gsyn_lp_pd =ghc\n",
    "    gsyn_lg_in = ghc\n",
    "    gsyn_ic_pd = gsynicpd\n",
    "    gsyn_ic_in = gsynicin\n",
    "    gel_ic_lp = geliclp\n",
    "    gel_ic_lg = geliclg \n",
    "    \"\"\"\n",
    "first to last index of each array corresponds to f1, f2, hn, s2, s1,\n",
    "respectively.\n",
    "    \"\"\"\n",
    "    gk = np.array([0.039,0.039,0.019,0.015,0.015])\n",
    "    gl = np.empty(5)\n",
    "    gl.fill(0.0001)\n",
    "    gc = np.array([0.019,0.019,0.017,0.0085,0.0085])\n",
    "    gh = np.array([0.025,0.025,0.008,0.01,0.01])\n",
    "    #print(f'gk = {gk}, shape gk = {np.shape(gk)}')\n",
    "    #print(f'gl = {gl}, shape gl = {np.shape(gl)}')\n",
    "    #print(f'gc = {gc}, shape gc = {np.shape(gc)}')\n",
    "    #print(f'gh = {gh}, shape gh = {np.shape(gh)}')\n",
    "    iext =np.zeros(5)\n",
    "    #print(f'iext = {iext}, shape iext ={np.shape(iext)}')\n",
    "    Vm=np.array([1, 2, 3, 4,5])\n",
    "    c=1 #nF\n",
    "    phi=0.002 #1/ms\n",
    "    vk=-80 #mV\n",
    "    vl=-40\n",
    "    vca=100\n",
    "    vh=-20\n",
    "    vsyn=-75\n",
    "    vp1=0\n",
    "    vp2=20\n",
    "    vp3=0\n",
    "    vp4=15\n",
    "    vp5=78.3\n",
    "    vp6=10.5\n",
    "    vp7=-42.2\n",
    "    vp8=87.3\n",
    "    vth=-25\n",
    "    vp11=5\n",
    "\n",
    "    minf=0.5*(1+np.tanh((Vm-vp1)/vp2))\n",
    "    ninf=0.5*(1+np.tanh((Vm-vp3)/vp4))\n",
    "    lamdn= phi*(np.cosh((Vm-vp3)/(2*vp4)))\n",
    "    hinf=1/(1+np.exp((Vm+vp5)/vp6))\n",
    "    tauh=(272-((-1499)/(1+np.exp((-Vm+vp7)/vp8))))\n",
    "    #syn from cell onto others\n",
    "    sinf=1/(1+np.exp((vth-Vm)/vp11))\n",
    "    #print (f'minf = {minf} shape- {np.shape(minf)}')\n",
    "    #print(f'ninf = {ninf} shape - {np.shape(ninf)}')\n",
    "    #print(f'lambn ={lamdn} shape- {np.shape(lamdn)}')\n",
    "    #print(f'hinf = {hinf} shape - {np.shape(hinf)}')\n",
    "    #print(f' tauh = {tauh} shape - {np.shape(tauh)}')\n",
    "    #print(f'sinf = {sinf} shape- {np.shape(sinf)}')\n",
    "    ielec = np.array([0, gel_ic_lp*(Vm[1]-Vm[2]),\n",
    "             gel_ic_lp*(Vm[2]-Vm[2])+gel_ic_lg*(Vm[2]-Vm[3]),\n",
    "             gel_ic_lg*(Vm[3]-Vm[2]),0])\n",
    "    #print(f'ielec ={ielec}')\n",
    "    isyn = np.array([gsyn_lp_pd*(sinf[1]*(Vm[0]-vsyn)),gsyn_lp_pd*(sinf[0]*(Vm[1]-vsyn)),\n",
    "             (gsyn_ic_pd*sinf[0]*(Vm[2]-vsyn))+(gsyn_ic_in*sinf[4]*(Vm[2]-vsyn)),\n",
    "            gsyn_lg_in*sinf[4]*(Vm[3]-vsyn), gsyn_lg_in*sinf[3]*(Vm[4]-vsyn)])\n",
    "    #print(f'isyn = {isyn}')\n",
    "    ica = gc*minf*(Vm-vca)\n",
    "    #print(f'ica = {ica}')\n",
    "    #print(f'gk ={gk}, N = {N}, Vm= {Vm}, vk ={vk}')\n",
    "    ik = gk*N*(Vm-vk)\n",
    "    #print(f'ik = {ik}')\n",
    "    ih = gh*H*(Vm-vh)\n",
    "    #print(f'ih = {ih}')\n",
    "    il = gl*(Vm-vl)  #nA\n",
    "    #print (f'ica ={ica}, ik = {ik}, ih = {ih}, il ={il}')\n",
    "    dy = np.zeros(ny)\n",
    "    #print(f' dy shape ={np.shape(dy[10:15])}')\n",
    "    dy[0:5] = lamdn*(ninf-N) #dN\n",
    "    dy[5:10] = (hinf-H)/tauh #dH\n",
    "    dy[10:15] = (iext-ica-il-ik-ih-ielec-isyn)/c  #dVm\n",
    "    #print(f'dy retun value = {dy}')\n",
    "    return dy"
   ]
  },
  {
   "cell_type": "code",
   "execution_count": 4,
   "id": "3eb36331",
   "metadata": {},
   "outputs": [],
   "source": [
    "results= solve_ivp(switchIC, t_span, y0, method='RK45', t_eval=None,\n",
    "                 vectorized=False)"
   ]
  },
  {
   "cell_type": "code",
   "execution_count": 14,
   "id": "44d9a3f1",
   "metadata": {},
   "outputs": [],
   "source": [
    "t= results['t']\n",
    "Vm_all = results['y'][10:]"
   ]
  },
  {
   "cell_type": "code",
   "execution_count": 18,
   "id": "db57cd0e",
   "metadata": {},
   "outputs": [
    {
     "data": {
      "image/png": "[encoded data removed]",
      "text/plain": [
       "<Figure size 432x288 with 1 Axes>"
      ]
     },
     "metadata": {
      "needs_background": "light"
     },
     "output_type": "display_data"
    }
   ],
   "source": [
    "for i in Vm_all:\n",
    "    plt.plot(t,i)\n",
    "plt.show()"
   ]
  }
 ],
 "metadata": {
  "kernelspec": {
   "display_name": "Python 3 (ipykernel)",
   "language": "python",
   "name": "python3"
  },
  "language_info": {
   "codemirror_mode": {
    "name": "ipython",
    "version": 3
   },
   "file_extension": ".py",
   "mimetype": "text/x-python",
   "name": "python",
   "nbconvert_exporter": "python",
   "pygments_lexer": "ipython3",
   "version": "3.9.12"
  }
 },
 "nbformat": 4,
 "nbformat_minor": 5
}

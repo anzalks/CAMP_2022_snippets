{
 "cells": [
  {
   "cell_type": "code",
   "execution_count": null,
   "id": "1bf6b20d",
   "metadata": {},
   "outputs": [],
   "source": [
    "\"\"\"\"\"\"\n",
    "Single neuron model of hub neuron\n",
    "\n",
    "\"\"\"\"\"\"\n"
   ]
  },
  {
   "cell_type": "code",
   "execution_count": 2,
   "id": "a37af5b6",
   "metadata": {},
   "outputs": [
    {
     "name": "stdout",
     "output_type": "stream",
     "text": [
      "y0 = [  0   0 -65]\n"
     ]
    }
   ],
   "source": [
    "#initialise\n",
    "import matplotlib.pyplot as plt\n",
    "import numpy as np \n",
    "from scipy.integrate import solve_ivp\n",
    "import math as math\n",
    "\n",
    "n = 1\n",
    "endtr = 0.1 #100 s\n",
    "clipt = -55*1e3\n",
    "thr = 0\n",
    "ghc = 0.005\n",
    "#gel=0.5 #nS\n",
    "#gsynA=5\n",
    "\n",
    "N0 = 0\n",
    "H0 = 0\n",
    "Vm0 = -65\n",
    "#print( f'N0 ={N0}, H0 = {H0}, Vm0 = {Vm0}')\n",
    "#print(np.size(N0))\n",
    "t_span = [0,endtr] #not sure about the syntax\n",
    "#print(f't_span = {t_span}')\n",
    "y0 = np.array([N0, H0, Vm0])\n",
    "print(f'y0 = {y0}')"
   ]
  },
  {
   "cell_type": "code",
   "execution_count": 6,
   "id": "ba1d470e",
   "metadata": {},
   "outputs": [
    {
     "name": "stdout",
     "output_type": "stream",
     "text": [
      "[0.039 0.039 0.019 0.015 0.015]\n"
     ]
    }
   ],
   "source": [
    "def switchIC(t,y,ghc=ghc,gsynicpd=gsynA,gsynicin=gsynA,geliclp=gel,geliclg=gel): \n",
    "    ny= np.shape(y)[0] \n",
    "    N = y[0] H = y[1] Vm = y[3]\n",
    "\n",
    "    gk=0.019\n",
    "    gl=0.0001\n",
    "    gc=0.017\n",
    "    gh=0.008\n",
    "\n",
    "    iext =0\n",
    "    #print(f'iext = {iext}, shape iext ={np.shape(iext)}')\n",
    "    #Vm=np.array([1, 2, 3, 4,5])\n",
    "    c=1 #nF\n",
    "    phi=0.002 /ms\n",
    "    vk=-80 #mV\n",
    "    vl=-40\n",
    "    vca=100\n",
    "    vh=-20\n",
    "    vsyn=-75\n",
    "    vp1=0\n",
    "    vp2=20\n",
    "    vp3=0\n",
    "    vp4=15\n",
    "    vp5=78.3\n",
    "    vp6=10.5\n",
    "    vp7=-42.2\n",
    "    vp8=87.3\n",
    "\n",
    "    minf=0.5*(1+np.tanh((Vm-vp1)/vp2))\n",
    "    ninf=0.5*(1+np.tanh((Vm-vp3)/vp4))\n",
    "    lamdn= phi*(np.cosh((Vm-vp3)/(2*vp4)))\n",
    "    hinf=1/(1+np.exp((Vm+vp5)/vp6))\n",
    "    tauh=(272-((-1499)/(1+np.exp((-Vm+vp7)/vp8))))\n",
    "    \n",
    "    ica = gc*minf*(Vm-vca)\n",
    "    ik = gk*N*(Vm-vk)\n",
    "    ih = gh*H*(Vm-vh)\n",
    "    il = gl*(Vm-vl)  #nA\n",
    "\n",
    "    dy=np.zeros(ny)\n",
    "\n",
    "    dy[0]=lamdn*(ninf-N)\n",
    "    dy[1]=(hinf-H)./tauh\n",
    "    dy[2]=(iext-ica-il-ik-ih)/c"
   ]
  },
  {
   "cell_type": "code",
   "execution_count": null,
   "id": "a5a36da3",
   "metadata": {},
   "outputs": [],
   "source": []
  }
 ],
 "metadata": {
  "kernelspec": {
   "display_name": "Python 3 (ipykernel)",
   "language": "python",
   "name": "python3"
  },
  "language_info": {
   "codemirror_mode": {
    "name": "ipython",
    "version": 3
   },
   "file_extension": ".py",
   "mimetype": "text/x-python",
   "name": "python",
   "nbconvert_exporter": "python",
   "pygments_lexer": "ipython3",
   "version": "3.8.10"
  }
 },
 "nbformat": 4,
 "nbformat_minor": 5
}
